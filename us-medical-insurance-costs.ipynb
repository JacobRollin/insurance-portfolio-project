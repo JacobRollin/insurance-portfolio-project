{
 "cells": [
  {
   "cell_type": "markdown",
   "metadata": {},
   "source": [
    "# U.S. Medical Insurance Cost Portfolio Project"
   ]
  },
  {
   "cell_type": "markdown",
   "metadata": {},
   "source": [
    "## Goals\n",
    "***\n",
    "* Analyze multiple variables in meaningful ways that will provide insight into the dataset\n",
    "* Implement Data Analyst skills in a real-world scenario\n",
    "* Utilize Python and its various libraries to model this data in a way that is digestible\n",
    "\n",
    "Each section of this Notebook will contain code that is being used to analyze the dataset, as well as any findings. The aim is to provide both insights into the data while also showcasing coding and data analysis skills."
   ]
  },
  {
   "cell_type": "markdown",
   "metadata": {},
   "source": [
    "### Step 1\n",
    "***\n",
    "Convert the CSV data into a pandas DataFrame so that the data can be worked with more directly. This is a two dimensional table that assigns a number to each individual in the dataset. Also, create some general functions that will be useful throughout the analysis."
   ]
  },
  {
   "cell_type": "code",
   "execution_count": 74,
   "metadata": {},
   "outputs": [
    {
     "name": "stderr",
     "output_type": "stream",
     "text": [
      "/var/folders/kc/5_q13t6j0hg5x5449rgb645r0000gn/T/ipykernel_81742/19917311.py:4: DeprecationWarning: Importing display from IPython.core.display is deprecated since IPython 7.14, please import from IPython display\n",
      "  from IPython.core.display import display, HTML\n"
     ]
    },
    {
     "data": {
      "text/html": [
       "<style>.container {width: 80% !important}</style"
      ],
      "text/plain": [
       "<IPython.core.display.HTML object>"
      ]
     },
     "metadata": {},
     "output_type": "display_data"
    }
   ],
   "source": [
    "import csv\n",
    "import pandas as pd\n",
    "import matplotlib.pyplot as plt\n",
    "from IPython.core.display import display, HTML\n",
    "\n",
    "display(HTML('<style>.container {width: 80% !important}</style'))\n",
    "\n",
    "insurance_df = pd.read_csv('insurance.csv')"
   ]
  },
  {
   "cell_type": "markdown",
   "metadata": {},
   "source": [
    "## General Functions and Global Variables\n",
    "***\n",
    "The code below will contain some general functions and variables that do things like:\n",
    "* Defining the total number of people in the dataset\n",
    "* Finding a proportion of two numbers and returning the proportion of the larger number to the smaller number\n",
    "    * I may add a way to return the smaller to larger proportion as well, but currently this suits my needs\n",
    "* Finding a percentage given a number and a total\n",
    "* Sorting a DataFrame so that it can be plotted easier\n",
    "    * **Note**: I know there is a built-in pandas function that does this. That function is called within my sort function so that I can help keep all the code more organized and so that I can keep the global namespace cleaner\n",
    "* Create a DataFrame from a list with a simple function call\n",
    "\n",
    "I've decided to organize these together so that the code is overall easier to follow and so that all of these less specific functions can be found in a single location."
   ]
  },
  {
   "cell_type": "code",
   "execution_count": 75,
   "metadata": {},
   "outputs": [],
   "source": [
    "# Using len(), find the number of rows (which represents individual people) in the DataFrame\n",
    "# This variable is used in multiple functions so the global scope is appropriate\n",
    "num_of_rows = len(insurance_df.index)\n",
    "\n",
    "# Finds a proportion of two numbers and returns the proportion of the larger value to the smaller value\n",
    "def proportion(num1, num2):\n",
    "    if num1 > num2:\n",
    "        return num1 / num2\n",
    "    else:\n",
    "        return num2 / num1\n",
    "\n",
    "# Finds the percent of a given number as a part of a given total\n",
    "def percent(num, total):\n",
    "    return (num / total) * 100\n",
    "\n",
    "# Sorts a DataFrames (df) rows by column (col) from smallest to largest by default, optionally the order variable can\n",
    "# be changed to 'desc' to order from largest to smallest\n",
    "def sort(df, col, order = None):\n",
    "    if order == 'desc':\n",
    "        sorted_df = df.sort_values(by=col, ascending=False)\n",
    "        return sorted_df\n",
    "    else:\n",
    "        sorted_df = df.sort_values(by=col)\n",
    "        return sorted_df\n",
    "\n",
    "# Creates a DataFrame from a given list and a list of column names\n",
    "def df_from_lst(lst, cols):\n",
    "    df = pd.DataFrame(lst, columns = cols)\n",
    "    return df"
   ]
  },
  {
   "cell_type": "markdown",
   "metadata": {},
   "source": [
    "### Step 2\n",
    "***\n",
    "The next step is finding some averages to compare other information to so that there is some kind of baseline. More specific functions will be created for these."
   ]
  },
  {
   "cell_type": "code",
   "execution_count": 76,
   "metadata": {},
   "outputs": [
    {
     "name": "stdout",
     "output_type": "stream",
     "text": [
      "The average age is: 39.2 years old\n",
      "The average BMI is: 30.7\n",
      "The average number of children is: 1.1\n",
      "The average insurance cost is: $13270.42\n"
     ]
    }
   ],
   "source": [
    "# I initially had each of these functions as variables in the global scope but decided to rewrite them as functions\n",
    "# both to keep the global scope clean and to create more modular code\n",
    "\n",
    "#Average Age\n",
    "def average_age(df, total = num_of_rows):\n",
    "    total_age = sum(df['age'])\n",
    "    avg_age = total_age / total\n",
    "    return avg_age\n",
    "print('The average age is: {} years old'.format(round(average_age(insurance_df), 1)))\n",
    "\n",
    "# Average BMI\n",
    "def average_bmi(df, total = num_of_rows):\n",
    "    total_bmi = sum(df['bmi'])\n",
    "    avg_bmi = total_bmi / total\n",
    "    return avg_bmi\n",
    "print('The average BMI is: {}'.format(round(average_bmi(insurance_df), 1)))\n",
    "\n",
    "# The above steps are repeated for each numerical piece of data\n",
    "\n",
    "# Average number of children\n",
    "def average_children(df, total = num_of_rows):\n",
    "    total_children = sum(df['children'])\n",
    "    avg_children = total_children / total\n",
    "    return avg_children\n",
    "print('The average number of children is: {}'.format(round(average_children(insurance_df), 1)))\n",
    "\n",
    "# Average Cost\n",
    "def average_cost(df, total = num_of_rows):\n",
    "    total_cost = sum(df['cost'])\n",
    "    avg_cost = total_cost / total\n",
    "    return avg_cost\n",
    "print('The average insurance cost is: ${}'.format(round(average_cost(insurance_df), 2)))"
   ]
  },
  {
   "cell_type": "markdown",
   "metadata": {},
   "source": [
    "### Step 2.5\n",
    "***\n",
    "Find a way to represent the non-numerical values in a numeric way to see if there is any interesting information or data bias that could be revealed. Functions will be written for these unqiue values as well."
   ]
  },
  {
   "cell_type": "code",
   "execution_count": 77,
   "metadata": {},
   "outputs": [
    {
     "name": "stdout",
     "output_type": "stream",
     "text": [
      "        Male/Female Totals\n",
      "Female                 662\n",
      "Male                   676\n",
      "The proportion of males to females is 1.02:1, respectively.\n"
     ]
    },
    {
     "data": {
      "image/png": "[encoded data removed]",
      "text/plain": [
       "<Figure size 576x576 with 1 Axes>"
      ]
     },
     "metadata": {},
     "output_type": "display_data"
    }
   ],
   "source": [
    "# Returns the total number of males or females given a Dataframe and the string 'male' or 'female'\n",
    "def total_males_or_females(df, sex):\n",
    "    total_females = 0\n",
    "    total_males = 0\n",
    "    for person in df['sex']:\n",
    "        if person == 'female':\n",
    "            total_females += 1\n",
    "        else:\n",
    "            total_males += 1\n",
    "    if sex == 'male':\n",
    "        return total_males\n",
    "    elif sex == 'female':\n",
    "        return total_females\n",
    "    else:\n",
    "        return None\n",
    "\n",
    "sex_df = pd.DataFrame({'Male/Female Totals': [total_males_or_females(insurance_df, 'female'),\n",
    "                                              total_males_or_females(insurance_df, 'male')]},\n",
    "                       index = ['Female', 'Male'])\n",
    "\n",
    "print(sex_df)\n",
    "\n",
    "# Find the proportion of males to females\n",
    "sex_proportion = proportion(total_males_or_females(insurance_df, 'female'), total_males_or_females(insurance_df, 'male'))\n",
    "print('The proportion of males to females is {}:1, respectively.'.format(round(sex_proportion, 2)))\n",
    "\n",
    "sex_df.plot.pie(y = 'Male/Female Totals',\n",
    "                figsize = (8, 8),\n",
    "                title = 'Percent of Males vs. Females',\n",
    "                colors = ['darkseagreen', 'lightsteelblue'],\n",
    "                autopct = '%1.1f%%',\n",
    "                fontsize = 14,\n",
    "                legend = False,\n",
    "                shadow = True,\n",
    "                startangle = 45)\n",
    "plt.show()\n",
    "\n"
   ]
  },
  {
   "cell_type": "markdown",
   "metadata": {},
   "source": [
    "What the above code tells us is that the data set is pretty evenly split bewteen males and females, so there is little sex based bias in the data. Now what about number of smokers?"
   ]
  },
  {
   "cell_type": "code",
   "execution_count": 78,
   "metadata": {},
   "outputs": [
    {
     "name": "stdout",
     "output_type": "stream",
     "text": [
      "            Smoker Totals\n",
      "Smoker                274\n",
      "Non-Smoker           1064\n",
      "The proportion of non-smokers to smokers is 3.88:1, respectively.\n"
     ]
    },
    {
     "data": {
      "image/png": "[encoded data removed]",
      "text/plain": [
       "<Figure size 576x576 with 1 Axes>"
      ]
     },
     "metadata": {},
     "output_type": "display_data"
    }
   ],
   "source": [
    "# Returns the total number of smokers or non-smokers given a DataFrame and the string 'smoker' or 'non-smoker'\n",
    "def total_smoker_status(df, status):\n",
    "    total_smokers = 0\n",
    "    total_non_smokers = 0\n",
    "    for person in df['smoker']:\n",
    "        if person == 'yes':\n",
    "            total_smokers += 1\n",
    "        else:\n",
    "            total_non_smokers += 1\n",
    "    if status == 'smoker':\n",
    "        return total_smokers\n",
    "    else:\n",
    "        return total_non_smokers\n",
    "\n",
    "smoker_df = pd.DataFrame({'Smoker Totals': [total_smoker_status(insurance_df, 'smoker'),\n",
    "                                           total_smoker_status(insurance_df, 'non-smoker')]},\n",
    "                          index = ['Smoker', 'Non-Smoker'])\n",
    "print(smoker_df)\n",
    "\n",
    "# Find the proportion of total smokers to non-smokers\n",
    "smoker_proportion = proportion(total_smoker_status(insurance_df, 'smoker'), total_smoker_status(insurance_df, 'non-smoker'))\n",
    "print('The proportion of non-smokers to smokers is {}:1, respectively.'.format(round(smoker_proportion, 2)))\n",
    "\n",
    "smoker_df.plot.pie(y = 'Smoker Totals',\n",
    "                   title = 'Percent of Smokers and Non-Smokers',\n",
    "                   figsize = (8, 8),\n",
    "                   colors = ['darkviolet', 'lightsteelblue'],\n",
    "                   fontsize = 14,\n",
    "                   autopct = '%1.1f%%',\n",
    "                   legend = False,\n",
    "                   shadow = True,\n",
    "                   explode = (0.08, 0))\n",
    "plt.show()\n",
    "\n"
   ]
  },
  {
   "cell_type": "markdown",
   "metadata": {},
   "source": [
    "These conclusion find that non-smokers in this dataset outnumber smokers almost 4 to 1. This could skew some of the average data that was found in a couple ways:\n",
    "1. The average cost could be skewed lower because of the lower cost that is assumed to be associated with non-smoking.\n",
    "2. Average BMI could be skewed slightly higher because the weight of smokers tends to be lower than non-smokers due to the metabolic effect of nicotine (Williams, Why smokers are skinny | science | AAAS 2011).\n",
    "I'll dive into this later on, but for now, just keep it in mind."
   ]
  },
  {
   "cell_type": "markdown",
   "metadata": {},
   "source": [
    "Next I want to find which region is the most prevalent in the dataset."
   ]
  },
  {
   "cell_type": "code",
   "execution_count": 79,
   "metadata": {},
   "outputs": [
    {
     "name": "stdout",
     "output_type": "stream",
     "text": [
      "           Region Totals\n",
      "Southwest            364\n",
      "Southeast            325\n",
      "Northwest            325\n",
      "Northeast            324\n"
     ]
    },
    {
     "data": {
      "image/png": "[encoded data removed]",
      "text/plain": [
       "<Figure size 576x576 with 1 Axes>"
      ]
     },
     "metadata": {},
     "output_type": "display_data"
    }
   ],
   "source": [
    "# Finds the total of a region given a DataFrame and the region code: NE, NW, SE, SW\n",
    "def region_total(df, code):\n",
    "    total_SW = 0\n",
    "    total_SE = 0\n",
    "    total_NW = 0\n",
    "    total_NE = 0\n",
    "    for region in df['region']:\n",
    "        if region == 'southwest':\n",
    "            total_SW += 1\n",
    "        elif region == 'southeast':\n",
    "            total_SE += 1\n",
    "        elif region == 'northwest':\n",
    "            total_NW += 1\n",
    "        else:\n",
    "            total_NE += 1\n",
    "    if code == 'SW':\n",
    "        return total_SW\n",
    "    elif code == 'SE':\n",
    "        return total_SE\n",
    "    elif code == 'NE':\n",
    "        return total_NE\n",
    "    else:\n",
    "        return total_NW\n",
    "\n",
    "regions_df = pd.DataFrame({'Region Totals': [region_total(insurance_df, 'SE'),\n",
    "                                     region_total(insurance_df, 'SW'),\n",
    "                                     region_total(insurance_df, 'NW'),\n",
    "                                     region_total(insurance_df, 'NE')]},\n",
    "                           index=['Southwest', 'Southeast', 'Northwest', 'Northeast'])\n",
    "print(regions_df)\n",
    "regions_df.plot.pie(y = 'Region Totals',\n",
    "                    title = 'Population Percent by Region',\n",
    "                    figsize = (8, 8),\n",
    "                    autopct = '%1.1f%%',\n",
    "                    fontsize = 14,\n",
    "                    colors = ['firebrick', 'khaki', 'forestgreen', 'lightsteelblue'],\n",
    "                    legend = False,\n",
    "                    shadow = True,\n",
    "                    explode = (0.08, 0, 0, 0),\n",
    "                    startangle = 0)\n",
    "plt.show()\n"
   ]
  },
  {
   "cell_type": "markdown",
   "metadata": {},
   "source": [
    "This finds that the data is pretty evenly distributed among the four regions with the Southeast having a slightly higher representation. Overall, it shouldn't affect the data too much but further analysis will need to be done to determine that."
   ]
  },
  {
   "cell_type": "markdown",
   "metadata": {},
   "source": [
    "### Step 3\n",
    "***\n",
    "Do more in-depth analysis now that we have some basic totals, averages, percentages, and proportions.\n",
    "\n",
    "The analyses that will be done will consist of:\n",
    "* Average age of people with children\n",
    "* Average age of people who smoke\n",
    "* Number of smokers who are male vs. female\n",
    "* Average cost for smokers vs. non-smokers\n",
    "    * First find the average cost for males and females\n",
    "* Average BMI of people who smoke\n",
    "* The average age and BMI in each region\n",
    "***\n",
    "These analyses should provide some more interesting information about the dataset as a whole. The conclusions as a whole will be discussed in a section below.\n"
   ]
  },
  {
   "cell_type": "markdown",
   "metadata": {},
   "source": [
    "First, the average age of people with children."
   ]
  },
  {
   "cell_type": "code",
   "execution_count": 80,
   "metadata": {},
   "outputs": [
    {
     "name": "stdout",
     "output_type": "stream",
     "text": [
      "The average age of people who have children is 39.8 years old, which is 0.6 years older than the total average.\n"
     ]
    }
   ],
   "source": [
    "# Create a zip object containing all ages and children values for each person\n",
    "ages_and_children_zip = zip(insurance_df['age'], insurance_df['children'])\n",
    "ages_and_children = []\n",
    "# Iterate through the zip object and add each person with at least one child to a list called ages_and_children\n",
    "for person in ages_and_children_zip:\n",
    "    if person[1] > 0:\n",
    "        ages_and_children.append(person)\n",
    "        \n",
    "# Create a DataFrame from the list of people with children and their ages\n",
    "ages_and_children_df = df_from_lst(ages_and_children, ['age', 'children'])\n",
    "\n",
    "# Prints the average age of those who have children and the differnce from the overall average\n",
    "print('The average age of people who have children is {0} years old, which is {1} years older than the total average.'\n",
    "      .format(round(average_age(ages_and_children_df, len(ages_and_children_df)), 1),\n",
    "              abs(round(average_age(insurance_df) - average_age(ages_and_children_df, len(ages_and_children_df)), 1))))\n",
    "\n",
    "\n"
   ]
  },
  {
   "cell_type": "markdown",
   "metadata": {},
   "source": [
    "The average age of those who have children is very, very close to the overall average age. This makes sense because the average number of children was found to be a little over 1 per person on average, meaning the majority of people in the dataset have at least one child."
   ]
  },
  {
   "cell_type": "markdown",
   "metadata": {},
   "source": [
    "Next, the average age of smokers."
   ]
  },
  {
   "cell_type": "code",
   "execution_count": 81,
   "metadata": {},
   "outputs": [
    {
     "name": "stdout",
     "output_type": "stream",
     "text": [
      "The average age of people who smoke is 38.5 years old, which is 0.7 years younger than the total average.\n",
      "The average age of people who do not smoke is 39.4 years old, which is 0.2 years older than the total average.\n",
      "The difference between the average age of those who smoke and those who do not is 0.9 years.\n"
     ]
    }
   ],
   "source": [
    "# Create a zip object containing all ages and smoker status values for each person\n",
    "ages_and_smoker_zip = zip(insurance_df['age'], insurance_df['smoker'])\n",
    "ages_and_smoker = []\n",
    "ages_and_non_smoker = []\n",
    "\n",
    "# Iterates through the zip object and adds the age and smoking status to the proper list\n",
    "for person in ages_and_smoker_zip:\n",
    "    if person[1] == 'yes':\n",
    "        ages_and_smoker.append(person)\n",
    "    else:\n",
    "        ages_and_non_smoker.append(person)\n",
    "      \n",
    "# Create a DataFrame from the list of people based on their smoking status\n",
    "ages_and_smoker_df = df_from_lst(ages_and_smoker, ['age', 'smoker'])\n",
    "ages_and_non_smoker_df = df_from_lst(ages_and_non_smoker, ['age', 'smoker'])\n",
    "\n",
    "# Prints the average age of those who smoke and the difference from the overall average\n",
    "print('The average age of people who smoke is {0} years old, which is {1} years younger than the total average.'\n",
    "      .format(round(average_age(ages_and_smoker_df, len(ages_and_smoker_df)), 1),\n",
    "              round(average_age(insurance_df) - average_age(ages_and_smoker_df, len(ages_and_smoker_df)), 1)))\n",
    "\n",
    "# Prints the average age of people who do not smoke and the difference from the overall average\n",
    "print('The average age of people who do not smoke is {0} years old, which is {1} years older than the total average.'\n",
    "      .format(round(average_age(ages_and_non_smoker_df, len(ages_and_non_smoker_df)), 1),\n",
    "              abs(round(average_age(insurance_df) - average_age(ages_and_non_smoker_df, len(ages_and_non_smoker_df)), 1))))\n",
    "\n",
    "# Prints the difference in age between those who smoke and those who do not\n",
    "print('The difference between the average age of those who smoke and those who do not is {} years.'\n",
    "      .format(abs(round(average_age(ages_and_smoker_df, len(ages_and_smoker_df)) - average_age(ages_and_non_smoker_df, len(ages_and_non_smoker_df)), 1))))\n",
    "\n",
    "\n"
   ]
  },
  {
   "cell_type": "markdown",
   "metadata": {},
   "source": [
    "Interestingly, the age of both those who smoke and do not smoke is very close to the overall average. The difference between the averages is also very small. This is particularly surprising because only 20.5% of the dataset reports being a smoker which means there must not be a lot of age difference among smokers."
   ]
  },
  {
   "cell_type": "markdown",
   "metadata": {},
   "source": [
    "For further smoker analysis, this next section will look at the number of male vs. female smokers."
   ]
  },
  {
   "cell_type": "code",
   "execution_count": 82,
   "metadata": {},
   "outputs": [
    {
     "name": "stdout",
     "output_type": "stream",
     "text": [
      "The proportion of males who smoke to females who smoke is 1.4:1, respectively.\n"
     ]
    },
    {
     "data": {
      "image/png": "[encoded data removed]",
      "text/plain": [
       "<Figure size 576x576 with 1 Axes>"
      ]
     },
     "metadata": {},
     "output_type": "display_data"
    }
   ],
   "source": [
    "# Create a zip of sex and smoker status\n",
    "sex_and_smoker_zip = zip(insurance_df['sex'], insurance_df['smoker'])\n",
    "male_smokers = []\n",
    "female_smokers = []\n",
    "\n",
    "# Iterates through the zip object and adds sex and smoking status to the proper list\n",
    "for person in sex_and_smoker_zip:\n",
    "    if person[1] == 'yes':\n",
    "        if person[0] == 'male':\n",
    "            male_smokers.append(person)\n",
    "        else:\n",
    "            female_smokers.append(person)\n",
    "\n",
    "# Creates DataFrames from the lists of people based on sex\n",
    "male_smokers_df = df_from_lst(male_smokers, ['sex', 'smoker'])\n",
    "female_smokers_df = df_from_lst(female_smokers, ['sex', 'smoker'])\n",
    "\n",
    "# Print the proportion of males who smoke to females who smoke\n",
    "print('The proportion of males who smoke to females who smoke is {}:1, respectively.'\n",
    "      .format(round(proportion(len(male_smokers_df), len(female_smokers_df)), 1)))\n",
    "\n",
    "# Creates a DataFrame to plot the totals for males and females who smoke\n",
    "smokers_and_sex_df = pd.DataFrame({'Male/Female Smoker Totals': [total_males_or_females(male_smokers_df, 'male'),\n",
    "                                                                 total_males_or_females(female_smokers_df, 'female')]},\n",
    "                                   index = ['Male', 'Female'])\n",
    "\n",
    "# Plots the data on a pie chart\n",
    "smokers_and_sex_df.plot.pie(y = 'Male/Female Smoker Totals',\n",
    "                            title = 'Smokers by Sex',\n",
    "                            figsize = (8, 8),\n",
    "                            autopct = '%1.1f%%',\n",
    "                            fontsize = 14,\n",
    "                            legend = False,\n",
    "                            shadow = True,\n",
    "                            colors = ['lightsteelblue', 'darkseagreen'],\n",
    "                            explode = (0, 0.04))\n",
    "plt.show()"
   ]
  },
  {
   "cell_type": "markdown",
   "metadata": {},
   "source": [
    "The number of males who smoke is 16% higher than females who smoke, as seen in the graph above. We could infer that this would likely mean that the average cost of insurance for males is higher than females, given that the cost for smokers is likely higher than non-smokers. This hypothesis will be analyzed next."
   ]
  },
  {
   "cell_type": "code",
   "execution_count": 102,
   "metadata": {},
   "outputs": [
    {
     "name": "stdout",
     "output_type": "stream",
     "text": [
      "The average insurance cost for all males is $13956.75, while the average for all females is $12569.58. This is a difference of $1387.17\n",
      "The average insurance cost for all smokers is $32050.23, the average cost for all non-smokers is $8434.27, and the difference between them is $23615.96\n",
      "The average insurance cost for all smokers is $18779.81 higher than the average for all people in the dataset, and the average cost for non-smokers is $4836.15 lower than the average for all people in the dataset.\n",
      "The average insurance cost for male smokers is $33042.01, while the average for female smokers is $30679.0. The difference between them is $2363.01\n",
      "The average insurance cost for male non-smokers is $8087.2, while the average for female non-smokers is $8762.3. The difference between them is $675.09\n",
      "The difference in average insurance cost between male smokers and male non-smokers is $24954.8, and the difference between female smokers and female non-smokers is $21916.7\n"
     ]
    }
   ],
   "source": [
    "# Create zip object of sex and charges (cost)\n",
    "sex_cost_zip = zip(insurance_df['sex'], insurance_df['cost'])\n",
    "male_cost = []\n",
    "female_cost = []\n",
    "\n",
    "# Iterates through the zip object and seperates each person by sex into the proper list\n",
    "for person in sex_cost_zip:\n",
    "    if person[0] == 'male':\n",
    "        male_cost.append(person)\n",
    "    else:\n",
    "        female_cost.append(person)\n",
    "\n",
    "# Create two new DataFrames from the lists\n",
    "male_cost_df = df_from_lst(male_cost, ['sex', 'cost'])\n",
    "female_cost_df = df_from_lst(female_cost, ['sex', 'cost'])\n",
    "\n",
    "\n",
    "# Find the average cost of insurance for males and females\n",
    "print('The average insurance cost for all males is ${male}, while the average for all females is ${female}. This is a difference of ${diff}'\n",
    "      .format(male = round(average_cost(male_cost_df, len(male_cost_df)), 2),\n",
    "              female = round(average_cost(female_cost_df, len(female_cost_df)), 2),\n",
    "              diff = round(average_cost(male_cost_df, len(male_cost_df)) - average_cost(female_cost_df, len(female_cost_df)), 2)))\n",
    "\n",
    "# These lists will be used for analyzing smoker cost vs non-smoker cost\n",
    "sex_cost_smoker_zip = zip(insurance_df['sex'], insurance_df['cost'], insurance_df['smoker'])\n",
    "smoker_cost = []\n",
    "non_smoker_cost = []\n",
    "male_smoker_cost = []\n",
    "female_smoker_cost = []\n",
    "male_non_smoker_cost = []\n",
    "female_non_smoker_cost = []\n",
    "# Iterates through zip object and seperates each person by both smoker status and sex\n",
    "for person in sex_cost_smoker_zip:\n",
    "    if person[2] == 'yes':\n",
    "        smoker_cost.append(person)\n",
    "        if person[0] == 'male':\n",
    "            male_smoker_cost.append(person)\n",
    "        else:\n",
    "            female_smoker_cost.append(person)\n",
    "    else:\n",
    "        non_smoker_cost.append(person)\n",
    "        if person[0] == 'male':\n",
    "            male_non_smoker_cost.append(person)\n",
    "        else:\n",
    "            female_non_smoker_cost.append(person)\n",
    "\n",
    "# Create DataFrames for smoker_cost and non_smoker_cost\n",
    "smoker_cost_df = df_from_lst(smoker_cost, ['sex', 'cost', 'smoker'])\n",
    "non_smoker_cost_df = df_from_lst(non_smoker_cost, ['sex', 'cost', 'smoker'])\n",
    "# Print the average smoker cost, non-smoker cost, and a comparison\n",
    "print('The average insurance cost for all smokers is ${smoker}, the average cost for all non-smokers is ${non_smoker}, and the difference between them is ${diff}'\n",
    "      .format(smoker = round(average_cost(smoker_cost_df, len(smoker_cost_df)), 2),\n",
    "              non_smoker = round(average_cost(non_smoker_cost_df, len(non_smoker_cost_df)), 2), \n",
    "              diff = round(average_cost(smoker_cost_df, len(smoker_cost_df)) - average_cost(non_smoker_cost_df, len(non_smoker_cost_df)), 2)))\n",
    "print('The average insurance cost for all smokers is ${diff1} higher than the average for all people in the dataset, and the average cost for non-smokers is ${diff2} lower than the average for all people in the dataset.'\n",
    "      .format(diff1 = round(average_cost(smoker_cost_df, len(smoker_cost_df)) - average_cost(insurance_df), 2), \n",
    "              diff2 = round(average_cost(insurance_df) - average_cost(non_smoker_cost_df, len(non_smoker_cost_df)), 2)))\n",
    "\n",
    "# Create DataFrames for male_smoker_cost, female_smoker_cost, male_non_smoker_cost, and female_non_smoker_cost\n",
    "male_smoker_cost_df = df_from_lst(male_smoker_cost, ['sex', 'cost', 'smoker'])\n",
    "female_smoker_cost_df = df_from_lst(female_smoker_cost, ['sex', 'cost', 'smoker'])\n",
    "male_non_smoker_cost_df = df_from_lst(male_non_smoker_cost, ['sex', 'cost', 'smoker'])\n",
    "female_non_smoker_cost_df = df_from_lst(female_non_smoker_cost, ['sex', 'cost', 'smoker'])\n",
    "# Print the average male smoker cost, average female smoker cost, average male non-smoker cost, average female non-smoker cost, and some comparisons\n",
    "print('The average insurance cost for male smokers is ${male}, while the average for female smokers is ${female}. The difference between them is ${diff}'\n",
    "      .format(male = round(average_cost(male_smoker_cost_df, len(male_smoker_cost_df)), 2), \n",
    "              female = round(average_cost(female_smoker_cost_df, len(female_smoker_cost_df)), 2),\n",
    "              diff = round(average_cost(male_smoker_cost_df, len(male_smoker_cost_df)) - average_cost(female_smoker_cost_df, len(female_smoker_cost_df)), 2)))\n",
    "print('The average insurance cost for male non-smokers is ${male}, while the average for female non-smokers is ${female}. The difference between them is ${diff}'\n",
    "      .format(male = round(average_cost(male_non_smoker_cost_df, len(male_non_smoker_cost_df)), 2), \n",
    "              female = round(average_cost(female_non_smoker_cost_df, len(female_non_smoker_cost_df)), 2),\n",
    "              diff = round(average_cost(female_non_smoker_cost_df, len(female_non_smoker_cost_df)) - average_cost(male_non_smoker_cost_df, len(male_non_smoker_cost_df)), 2)))\n",
    "print('The difference in average insurance cost between male smokers and male non-smokers is ${male_diff}, and the difference between female smokers and female non-smokers is ${female_diff}'\n",
    "      .format(male_diff = round(average_cost(male_smoker_cost_df, len(male_smoker_cost_df)) - average_cost(male_non_smoker_cost_df, len(male_non_smoker_cost_df)), 2),\n",
    "              female_diff = round(average_cost(female_smoker_cost_df, len(female_smoker_cost_df)) - average_cost(female_non_smoker_cost_df, len(female_non_smoker_cost_df)), 2)))\n",
    "\n",
    "\n"
   ]
  },
  {
   "cell_type": "markdown",
   "metadata": {},
   "source": [
    "There are some interesting conclusions that can be drawn from the above analysis:\n",
    "***\n",
    "First, the hypothesis that overall average male insurance costs are  greater than overall average female insurance costs due to there being more male smokers was *likely* correct. This will be proven further in the other points below.\n",
    "***\n",
    "Second, the cost for insurance increases **greatly** for smokers. This means that the general average cost is skewed by the cost for smokers, despite the fact that smokers only make up 20.5% of the total dataset. In general, this means that the average cost for the whole dataset isn't particularly useful because it's not very representative of the dataset as a whole.\n",
    "***\n",
    "Finally, the average cost for male smokers is higher than that of female smokers. Interestingly, though, the average for male non-smokers is **lower** than female non-smokers. This is interesting because:\n",
    "1. It further proves the hypothesis from the first point. When we only look at non-smokers, males pay less on average for insurance.\n",
    "2. It raises further questions as to why female average insurance costs would be higher? One possible reason is that, in general, women are more likely to go to the doctor for illness, annual exams, etc. (NCHS pressroom - 2001 news release - women visit doctor more often than men 2006)\n"
   ]
  },
  {
   "cell_type": "markdown",
   "metadata": {},
   "source": [
    "This next section will look at the relationship between BMI and smoking status."
   ]
  },
  {
   "cell_type": "code",
   "execution_count": 115,
   "metadata": {},
   "outputs": [
    {
     "name": "stdout",
     "output_type": "stream",
     "text": [
      "The average BMI for male smokers is 31.5 and for male non-smokers it is 30.77. This is a difference of 0.73\n",
      "The average BMI for female smokers is 29.61 and for female non-smokers it is 30.54. This is a difference of 0.93\n"
     ]
    }
   ],
   "source": [
    "# Use list comprehensions and the df_from_lst function to create DataFrames\n",
    "sex_bmi_smoker_zip = zip(insurance_df['sex'], insurance_df['bmi'], insurance_df['smoker'])\n",
    "male_bmi_smoker_df = df_from_lst([person for person in sex_bmi_smoker_zip if person[0] == 'male' and person[2] == 'yes'], ['sex', 'bmi', 'smoker'])\n",
    "\n",
    "sex_bmi_smoker_zip = zip(insurance_df['sex'], insurance_df['bmi'], insurance_df['smoker'])\n",
    "female_bmi_smoker_df = df_from_lst([person for person in sex_bmi_smoker_zip if person[0] == 'female' and person[2] == 'yes'], ['sex', 'bmi', 'smoker'])\n",
    "\n",
    "sex_bmi_smoker_zip = zip(insurance_df['sex'], insurance_df['bmi'], insurance_df['smoker'])\n",
    "male_bmi_non_smoker_df = df_from_lst([person for person in sex_bmi_smoker_zip if person[0] == 'male' and person[2] == 'no'], ['sex', 'bmi', 'smoker'])\n",
    "\n",
    "sex_bmi_smoker_zip = zip(insurance_df['sex'], insurance_df['bmi'], insurance_df['smoker'])\n",
    "female_bmi_non_smoker_df = df_from_lst([person for person in sex_bmi_smoker_zip if person[0] == 'female' and person[2] == 'no'], ['sex', 'bmi', 'smoker'])\n",
    "\n",
    "# Print average BMI for male smokers and non-smokers, and female smokers and non-smokers\n",
    "print('The average BMI for male smokers is {smoker} and for male non-smokers it is {non_smoker}. This is a difference of {diff}'\n",
    "      .format(smoker = round(average_bmi(male_bmi_smoker_df, len(male_bmi_smoker_df)), 2), \n",
    "              non_smoker = round(average_bmi(male_bmi_non_smoker_df, len(male_bmi_non_smoker_df)), 2),\n",
    "              diff = round(average_bmi(male_bmi_smoker_df, len(male_bmi_smoker_df)) - average_bmi(male_bmi_non_smoker_df, len(male_bmi_non_smoker_df)), 2)))\n",
    "\n",
    "print('The average BMI for female smokers is {smoker} and for female non-smokers it is {non_smoker}. This is a difference of {diff}'\n",
    "      .format(smoker = round(average_bmi(female_bmi_smoker_df, len(female_bmi_smoker_df)), 2), \n",
    "              non_smoker = round(average_bmi(female_bmi_non_smoker_df, len(female_bmi_non_smoker_df)), 2),\n",
    "              diff = abs(round(average_bmi(female_bmi_smoker_df, len(female_bmi_smoker_df)) - average_bmi(female_bmi_non_smoker_df, len(female_bmi_non_smoker_df)), 2))))"
   ]
  },
  {
   "cell_type": "markdown",
   "metadata": {},
   "source": [
    "Contrary to the article cited above (citation number 1), smoker BMI isn't significantly lower than non-smoker BMI as previosuly thought. For males, smoker BMI is actually higher than non-smoker BMI. For females, smoker BMI is lower than non-smoker BMI, but by less than 1 point."
   ]
  },
  {
   "cell_type": "markdown",
   "metadata": {},
   "source": [
    "Lastly, this section will look at the relationship between average age and BMI between regions."
   ]
  },
  {
   "cell_type": "code",
   "execution_count": 123,
   "metadata": {},
   "outputs": [
    {
     "name": "stdout",
     "output_type": "stream",
     "text": [
      "The average age in the Northwest is 39.2 years old and the average BMI is 29.2\n",
      "The average age in the Northeast is 39.27 years old and the average BMI is 29.17\n",
      "The average age in the Southwest is 39.46 years old and the average BMI is 30.6\n",
      "The average age in the Southeast is 38.94 years old and the average BMI is 33.36\n"
     ]
    }
   ],
   "source": [
    "# Use list comprehensions and the df_from_lst function to create DataFrames for each region\n",
    "age_bmi_region_zip = zip(insurance_df['age'], insurance_df['bmi'], insurance_df['region'])\n",
    "age_bmi_NW_df = df_from_lst([person for person in age_bmi_region_zip if person[2] == 'northwest'], ['age', 'bmi', 'region'])\n",
    "\n",
    "age_bmi_region_zip = zip(insurance_df['age'], insurance_df['bmi'], insurance_df['region'])\n",
    "age_bmi_NE_df = df_from_lst([person for person in age_bmi_region_zip if person[2] == 'northeast'], ['age', 'bmi', 'region'])\n",
    "\n",
    "age_bmi_region_zip = zip(insurance_df['age'], insurance_df['bmi'], insurance_df['region'])\n",
    "age_bmi_SW_df = df_from_lst([person for person in age_bmi_region_zip if person[2] == 'southwest'], ['age', 'bmi', 'region'])\n",
    "\n",
    "age_bmi_region_zip = zip(insurance_df['age'], insurance_df['bmi'], insurance_df['region'])\n",
    "age_bmi_SE_df = df_from_lst([person for person in age_bmi_region_zip if person[2] == 'southeast'], ['age', 'bmi', 'region'])\n",
    "\n",
    "# Print average BMI and age for each region\n",
    "\n",
    "# Northwest\n",
    "print('The average age in the Northwest is {age} years old and the average BMI is {bmi}'\n",
    "      .format(age = round(average_age(age_bmi_NW_df, len(age_bmi_NW_df)), 2),\n",
    "              bmi = round(average_bmi(age_bmi_NW_df, len(age_bmi_NW_df)), 2)))\n",
    "\n",
    "# Northeast\n",
    "print('The average age in the Northeast is {age} years old and the average BMI is {bmi}'\n",
    "      .format(age = round(average_age(age_bmi_NE_df, len(age_bmi_NE_df)), 2),\n",
    "              bmi = round(average_bmi(age_bmi_NE_df, len(age_bmi_NE_df)), 2)))\n",
    "\n",
    "# Southwest\n",
    "print('The average age in the Southwest is {age} years old and the average BMI is {bmi}'\n",
    "      .format(age = round(average_age(age_bmi_SW_df, len(age_bmi_SW_df)), 2),\n",
    "              bmi = round(average_bmi(age_bmi_SW_df, len(age_bmi_SW_df)), 2)))\n",
    "\n",
    "# Southeast\n",
    "print('The average age in the Southeast is {age} years old and the average BMI is {bmi}'\n",
    "      .format(age = round(average_age(age_bmi_SE_df, len(age_bmi_SE_df)), 2),\n",
    "              bmi = round(average_bmi(age_bmi_SE_df, len(age_bmi_SE_df)), 2)))"
   ]
  },
  {
   "cell_type": "markdown",
   "metadata": {},
   "source": [
    "The average age among regions is nearly identical, with the largest difference being 0.52 years between the Southwest and Southeast. A difference of a little over 6 months is likely not statistically significant. \n",
    "Average BMI is a little more interesting. Though at first glance, it doesn't seem to vary too much, a 4 point difference is actually fairly high. The Southeast region had the highest BMI. BMI and poverty are closely related (Lee, Why poverty leads to obesity and life-long problems 2012) and poverty rates in the US tend to be higher in Southeast states. This is a great example of an interesting hypothesis that can be created by simply looking at different subsets of data."
   ]
  },
  {
   "cell_type": "markdown",
   "metadata": {},
   "source": [
    "## Conclusions\n",
    "***\n",
    "By working with this dataset in various ways, we've come across some interesting conclusions:\n",
    "* The number of male smokers is greater than the number of female smokers.\n",
    "* The average insurance cost for all males is higher than all females, but further analysis showed that male costs were skewed by smoking status more than female costs.\n",
    "* The average insurance cost for non-smoking males was lower than non-smoking females.\n",
    "* There is not a statistically significant difference between the average age in the four regions.\n",
    "* The Southeast region has a significantly higher average BMI than the other regions.\n",
    "***\n",
    "## Future Directions\n",
    "***\n",
    "Some interesting questions to look into in the future might be:\n",
    "* Why are female non-smoking insurance costs higher?\n",
    "* Is the reason for the Southeast region having higher BMI due to poverty?\n",
    "* Are people who have/do not have children less/more likely to be smokers?"
   ]
  },
  {
   "cell_type": "markdown",
   "metadata": {},
   "source": [
    "## Citations\n",
    "1. Williams, S. C. P. (2011, June 9). Why smokers are skinny | science | AAAS. Why Smokers Are Skinny. Retrieved July 20, 2022, from https://www.science.org/content/article/why-smokers-are-skinny \n",
    "2. Centers for Disease Control and Prevention. (2006, October 6). NCHS pressroom - 2001 news release - women visit doctor more often than men. Centers for Disease Control and Prevention. Retrieved July 20, 2022, from https://www.cdc.gov/nchs/pressroom/01news/newstudy.htm#:~:text=Women%20more%20likely%20than%20men,likely%20to%20have%20annual%20exams&amp;text=A%20new%20report%20from%20the,their%20care%20differs%20from%20men.\n",
    "3. Lee, H. (2012, December 1). Why poverty leads to obesity and life-long problems. Scholars Strategy Network. Retrieved July 21, 2022, from https://scholars.org/contribution/why-poverty-leads-obesity-and-life-long-problems"
   ]
  }
 ],
 "metadata": {
  "kernelspec": {
   "display_name": "Python 3 (ipykernel)",
   "language": "python",
   "name": "python3"
  },
  "language_info": {
   "codemirror_mode": {
    "name": "ipython",
    "version": 3
   },
   "file_extension": ".py",
   "mimetype": "text/x-python",
   "name": "python",
   "nbconvert_exporter": "python",
   "pygments_lexer": "ipython3",
   "version": "3.9.12"
  }
 },
 "nbformat": 4,
 "nbformat_minor": 4
}
